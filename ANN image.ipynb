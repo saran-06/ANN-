{
 "cells": [
  {
   "cell_type": "code",
   "execution_count": 7,
   "id": "f9916443",
   "metadata": {},
   "outputs": [],
   "source": [
    "import pandas as pd\n",
    "import numpy as np\n",
    "import tensorflow as tf\n",
    "from tensorflow import keras\n",
    "from tensorflow.keras.layers import Dense\n",
    "from tensorflow.keras import Sequential\n",
    "from sklearn.preprocessing import StandardScaler\n",
    "from sklearn.model_selection import train_test_split\n",
    "import matplotlib.pyplot as plt"
   ]
  },
  {
   "cell_type": "code",
   "execution_count": 8,
   "id": "521ed985",
   "metadata": {},
   "outputs": [],
   "source": [
    "x=np.load('X.npy')\n",
    "y=np.load('Y.npy')"
   ]
  },
  {
   "cell_type": "code",
   "execution_count": 9,
   "id": "24b4b42e",
   "metadata": {},
   "outputs": [
    {
     "data": {
      "text/plain": [
       "(2062, 64, 64)"
      ]
     },
     "execution_count": 9,
     "metadata": {},
     "output_type": "execute_result"
    }
   ],
   "source": [
    "x.shape"
   ]
  },
  {
   "cell_type": "code",
   "execution_count": 16,
   "id": "21823d94",
   "metadata": {},
   "outputs": [
    {
     "data": {
      "text/plain": [
       "(2062, 10)"
      ]
     },
     "execution_count": 16,
     "metadata": {},
     "output_type": "execute_result"
    }
   ],
   "source": [
    "y.shape"
   ]
  },
  {
   "cell_type": "code",
   "execution_count": 23,
   "id": "78f7f4a2",
   "metadata": {},
   "outputs": [
    {
     "data": {
      "image/png": "[encoded data removed]",
      "text/plain": [
       "<Figure size 432x288 with 1 Axes>"
      ]
     },
     "metadata": {
      "needs_background": "light"
     },
     "output_type": "display_data"
    }
   ],
   "source": [
    "plt.imshow(x[100])\n",
    "plt.show()"
   ]
  },
  {
   "cell_type": "code",
   "execution_count": 14,
   "id": "47eb0a61",
   "metadata": {},
   "outputs": [
    {
     "data": {
      "text/plain": [
       "array([1., 0., 0., 0., 0., 0., 0., 0., 0., 0.])"
      ]
     },
     "execution_count": 14,
     "metadata": {},
     "output_type": "execute_result"
    }
   ],
   "source": [
    "y[0]"
   ]
  },
  {
   "cell_type": "code",
   "execution_count": 40,
   "id": "aad0aa9f",
   "metadata": {},
   "outputs": [
    {
     "data": {
      "text/plain": [
       "array([[0.00183007, 0.00186082, 0.0018762 , ..., 0.00202999, 0.00201461,\n",
       "        0.00196847],\n",
       "       [0.00195309, 0.00190696, 0.00190696, ..., 0.00206075, 0.00202999,\n",
       "        0.00199923],\n",
       "       [0.00213764, 0.00193772, 0.00192234, ..., 0.00207612, 0.00206075,\n",
       "        0.00201461],\n",
       "       ...,\n",
       "       [0.00196847, 0.00201461, 0.00202999, ..., 0.0021684 , 0.00213764,\n",
       "        0.0020915 ],\n",
       "       [0.00195309, 0.00198385, 0.00201461, ..., 0.00213764, 0.0020915 ,\n",
       "        0.00204537],\n",
       "       [0.00192234, 0.00195309, 0.00196847, ..., 0.00207612, 0.00204537,\n",
       "        0.00199923]], dtype=float32)"
      ]
     },
     "execution_count": 40,
     "metadata": {},
     "output_type": "execute_result"
    }
   ],
   "source": [
    "x[0]"
   ]
  },
  {
   "cell_type": "code",
   "execution_count": 24,
   "id": "6e0d3be5",
   "metadata": {},
   "outputs": [],
   "source": [
    "#x=x/255   #normalization"
   ]
  },
  {
   "cell_type": "code",
   "execution_count": 41,
   "id": "2cec8c56",
   "metadata": {},
   "outputs": [],
   "source": [
    "x_train,x_test,y_train,y_test=train_test_split(x,y,test_size=0.2,random_state=10)"
   ]
  },
  {
   "cell_type": "code",
   "execution_count": 42,
   "id": "ef370f5a",
   "metadata": {},
   "outputs": [
    {
     "data": {
      "text/plain": [
       "(1649, 64, 64)"
      ]
     },
     "execution_count": 42,
     "metadata": {},
     "output_type": "execute_result"
    }
   ],
   "source": [
    "x_train.shape\n"
   ]
  },
  {
   "cell_type": "code",
   "execution_count": 43,
   "id": "e7a518d2",
   "metadata": {},
   "outputs": [],
   "source": [
    "x_train=x_train.reshape(1649,64*64)       #converting 3d into 2d\n",
    "x_test=x_test.reshape(413,64*64) "
   ]
  },
  {
   "cell_type": "code",
   "execution_count": 44,
   "id": "16eb9d14",
   "metadata": {},
   "outputs": [
    {
     "data": {
      "text/plain": [
       "(1649, 4096)"
      ]
     },
     "execution_count": 44,
     "metadata": {},
     "output_type": "execute_result"
    }
   ],
   "source": [
    "x_train.shape"
   ]
  },
  {
   "cell_type": "code",
   "execution_count": 45,
   "id": "360a417b",
   "metadata": {},
   "outputs": [],
   "source": [
    "nn=Sequential()\n",
    "nn.add(Dense(units=512,activation='tanh',input_dim=4096))\n",
    "nn.add(Dense(units=256,activation='tanh'))\n",
    "nn.add(Dense(units=128,activation='tanh'))\n",
    "nn.add(Dense(units=64,activation='tanh'))\n",
    "nn.add(Dense(units=32,activation='tanh'))\n",
    "nn.add(Dense(units=10,activation='softmax'))\n",
    "nn.compile(optimizer='Adam',loss='categorical_crossentropy',metrics=['accuracy'])"
   ]
  },
  {
   "cell_type": "code",
   "execution_count": 46,
   "id": "91b56892",
   "metadata": {},
   "outputs": [
    {
     "name": "stdout",
     "output_type": "stream",
     "text": [
      "Epoch 1/100\n",
      "52/52 [==============================] - 1s 14ms/step - loss: 2.3104 - accuracy: 0.1061\n",
      "Epoch 2/100\n",
      "52/52 [==============================] - 1s 14ms/step - loss: 2.1592 - accuracy: 0.2007\n",
      "Epoch 3/100\n",
      "52/52 [==============================] - 1s 14ms/step - loss: 1.7786 - accuracy: 0.3445\n",
      "Epoch 4/100\n",
      "52/52 [==============================] - 1s 14ms/step - loss: 1.6070 - accuracy: 0.4081\n",
      "Epoch 5/100\n",
      "52/52 [==============================] - 1s 14ms/step - loss: 1.3882 - accuracy: 0.5045\n",
      "Epoch 6/100\n",
      "52/52 [==============================] - 1s 14ms/step - loss: 1.2919 - accuracy: 0.5318\n",
      "Epoch 7/100\n",
      "52/52 [==============================] - 1s 14ms/step - loss: 1.2470 - accuracy: 0.5476\n",
      "Epoch 8/100\n",
      "52/52 [==============================] - 1s 15ms/step - loss: 1.2150 - accuracy: 0.5700\n",
      "Epoch 9/100\n",
      "52/52 [==============================] - 1s 16ms/step - loss: 1.2280 - accuracy: 0.5622\n",
      "Epoch 10/100\n",
      "52/52 [==============================] - 1s 14ms/step - loss: 1.1274 - accuracy: 0.6192\n",
      "Epoch 11/100\n",
      "52/52 [==============================] - 1s 16ms/step - loss: 1.0446 - accuracy: 0.6343\n",
      "Epoch 12/100\n",
      "52/52 [==============================] - 1s 14ms/step - loss: 1.0183 - accuracy: 0.6525\n",
      "Epoch 13/100\n",
      "52/52 [==============================] - 1s 14ms/step - loss: 1.0635 - accuracy: 0.6319\n",
      "Epoch 14/100\n",
      "52/52 [==============================] - 1s 14ms/step - loss: 1.0382 - accuracy: 0.6428\n",
      "Epoch 15/100\n",
      "52/52 [==============================] - 1s 14ms/step - loss: 0.9479 - accuracy: 0.6768\n",
      "Epoch 16/100\n",
      "52/52 [==============================] - 1s 14ms/step - loss: 0.8932 - accuracy: 0.7022\n",
      "Epoch 17/100\n",
      "52/52 [==============================] - 1s 14ms/step - loss: 0.8346 - accuracy: 0.7235\n",
      "Epoch 18/100\n",
      "52/52 [==============================] - 1s 14ms/step - loss: 0.8071 - accuracy: 0.7344\n",
      "Epoch 19/100\n",
      "52/52 [==============================] - 1s 14ms/step - loss: 0.9903 - accuracy: 0.6386\n",
      "Epoch 20/100\n",
      "52/52 [==============================] - 1s 14ms/step - loss: 0.7827 - accuracy: 0.7398\n",
      "Epoch 21/100\n",
      "52/52 [==============================] - 1s 15ms/step - loss: 0.7724 - accuracy: 0.7386\n",
      "Epoch 22/100\n",
      "52/52 [==============================] - 1s 14ms/step - loss: 0.8897 - accuracy: 0.6950\n",
      "Epoch 23/100\n",
      "52/52 [==============================] - 1s 14ms/step - loss: 0.7614 - accuracy: 0.7429\n",
      "Epoch 24/100\n",
      "52/52 [==============================] - 1s 15ms/step - loss: 0.7549 - accuracy: 0.7429\n",
      "Epoch 25/100\n",
      "52/52 [==============================] - 1s 14ms/step - loss: 0.8753 - accuracy: 0.6968\n",
      "Epoch 26/100\n",
      "52/52 [==============================] - 1s 14ms/step - loss: 0.6908 - accuracy: 0.7671\n",
      "Epoch 27/100\n",
      "52/52 [==============================] - 1s 13ms/step - loss: 0.7381 - accuracy: 0.7592\n",
      "Epoch 28/100\n",
      "52/52 [==============================] - 1s 13ms/step - loss: 0.6173 - accuracy: 0.8011\n",
      "Epoch 29/100\n",
      "52/52 [==============================] - 1s 13ms/step - loss: 0.7850 - accuracy: 0.7277\n",
      "Epoch 30/100\n",
      "52/52 [==============================] - 1s 14ms/step - loss: 0.7404 - accuracy: 0.7453\n",
      "Epoch 31/100\n",
      "52/52 [==============================] - 1s 13ms/step - loss: 0.7661 - accuracy: 0.7417\n",
      "Epoch 32/100\n",
      "52/52 [==============================] - 1s 13ms/step - loss: 0.5708 - accuracy: 0.8199\n",
      "Epoch 33/100\n",
      "52/52 [==============================] - 1s 13ms/step - loss: 0.5913 - accuracy: 0.8144\n",
      "Epoch 34/100\n",
      "52/52 [==============================] - 1s 14ms/step - loss: 0.5892 - accuracy: 0.8108\n",
      "Epoch 35/100\n",
      "52/52 [==============================] - 1s 13ms/step - loss: 0.5516 - accuracy: 0.8266\n",
      "Epoch 36/100\n",
      "52/52 [==============================] - 1s 13ms/step - loss: 0.6157 - accuracy: 0.8005\n",
      "Epoch 37/100\n",
      "52/52 [==============================] - 1s 13ms/step - loss: 0.6779 - accuracy: 0.7762\n",
      "Epoch 38/100\n",
      "52/52 [==============================] - 1s 13ms/step - loss: 0.6199 - accuracy: 0.7962\n",
      "Epoch 39/100\n",
      "52/52 [==============================] - 1s 13ms/step - loss: 0.6172 - accuracy: 0.7968\n",
      "Epoch 40/100\n",
      "52/52 [==============================] - 1s 13ms/step - loss: 0.6038 - accuracy: 0.7981\n",
      "Epoch 41/100\n",
      "52/52 [==============================] - 1s 13ms/step - loss: 0.5569 - accuracy: 0.8132\n",
      "Epoch 42/100\n",
      "52/52 [==============================] - 1s 15ms/step - loss: 0.6972 - accuracy: 0.7744\n",
      "Epoch 43/100\n",
      "52/52 [==============================] - 1s 13ms/step - loss: 0.5155 - accuracy: 0.8302\n",
      "Epoch 44/100\n",
      "52/52 [==============================] - 1s 13ms/step - loss: 0.5292 - accuracy: 0.8217\n",
      "Epoch 45/100\n",
      "52/52 [==============================] - 1s 13ms/step - loss: 0.4646 - accuracy: 0.8496\n",
      "Epoch 46/100\n",
      "52/52 [==============================] - 1s 13ms/step - loss: 0.4700 - accuracy: 0.8520\n",
      "Epoch 47/100\n",
      "52/52 [==============================] - 1s 13ms/step - loss: 0.4983 - accuracy: 0.8338\n",
      "Epoch 48/100\n",
      "52/52 [==============================] - 1s 13ms/step - loss: 0.4886 - accuracy: 0.8369\n",
      "Epoch 49/100\n",
      "52/52 [==============================] - 1s 13ms/step - loss: 0.5198 - accuracy: 0.8247\n",
      "Epoch 50/100\n",
      "52/52 [==============================] - 1s 13ms/step - loss: 0.5354 - accuracy: 0.8169\n",
      "Epoch 51/100\n",
      "52/52 [==============================] - 1s 13ms/step - loss: 0.3827 - accuracy: 0.8805\n",
      "Epoch 52/100\n",
      "52/52 [==============================] - 1s 13ms/step - loss: 0.4698 - accuracy: 0.8411\n",
      "Epoch 53/100\n",
      "52/52 [==============================] - 1s 13ms/step - loss: 0.4461 - accuracy: 0.8545\n",
      "Epoch 54/100\n",
      "52/52 [==============================] - 1s 13ms/step - loss: 0.5082 - accuracy: 0.8290\n",
      "Epoch 55/100\n",
      "52/52 [==============================] - 1s 13ms/step - loss: 0.5378 - accuracy: 0.8132\n",
      "Epoch 56/100\n",
      "52/52 [==============================] - 1s 13ms/step - loss: 0.4313 - accuracy: 0.8520\n",
      "Epoch 57/100\n",
      "52/52 [==============================] - 1s 13ms/step - loss: 0.4546 - accuracy: 0.8466\n",
      "Epoch 58/100\n",
      "52/52 [==============================] - 1s 13ms/step - loss: 0.4837 - accuracy: 0.8351\n",
      "Epoch 59/100\n",
      "52/52 [==============================] - 1s 13ms/step - loss: 0.4243 - accuracy: 0.8551\n",
      "Epoch 60/100\n",
      "52/52 [==============================] - 1s 15ms/step - loss: 0.3646 - accuracy: 0.8708\n",
      "Epoch 61/100\n",
      "52/52 [==============================] - 1s 13ms/step - loss: 0.3913 - accuracy: 0.8593\n",
      "Epoch 62/100\n",
      "52/52 [==============================] - 1s 14ms/step - loss: 0.4209 - accuracy: 0.8636\n",
      "Epoch 63/100\n",
      "52/52 [==============================] - 1s 15ms/step - loss: 0.3691 - accuracy: 0.8763\n",
      "Epoch 64/100\n",
      "52/52 [==============================] - 1s 14ms/step - loss: 0.3967 - accuracy: 0.8678\n",
      "Epoch 65/100\n",
      "52/52 [==============================] - 1s 14ms/step - loss: 0.3687 - accuracy: 0.8781\n",
      "Epoch 66/100\n",
      "52/52 [==============================] - 1s 14ms/step - loss: 0.3875 - accuracy: 0.8678\n",
      "Epoch 67/100\n",
      "52/52 [==============================] - 1s 13ms/step - loss: 0.5836 - accuracy: 0.8011\n",
      "Epoch 68/100\n",
      "52/52 [==============================] - 1s 15ms/step - loss: 0.3646 - accuracy: 0.8848\n",
      "Epoch 69/100\n",
      "52/52 [==============================] - 1s 14ms/step - loss: 0.2940 - accuracy: 0.9109\n",
      "Epoch 70/100\n",
      "52/52 [==============================] - 1s 14ms/step - loss: 0.3753 - accuracy: 0.8708\n",
      "Epoch 71/100\n",
      "52/52 [==============================] - 1s 14ms/step - loss: 0.4597 - accuracy: 0.8441\n",
      "Epoch 72/100\n",
      "52/52 [==============================] - 1s 14ms/step - loss: 0.4772 - accuracy: 0.8375\n",
      "Epoch 73/100\n",
      "52/52 [==============================] - 1s 13ms/step - loss: 0.3790 - accuracy: 0.8654\n",
      "Epoch 74/100\n",
      "52/52 [==============================] - 1s 14ms/step - loss: 0.3511 - accuracy: 0.8842\n",
      "Epoch 75/100\n",
      "52/52 [==============================] - 1s 14ms/step - loss: 0.3230 - accuracy: 0.9005\n",
      "Epoch 76/100\n",
      "52/52 [==============================] - 1s 14ms/step - loss: 0.3703 - accuracy: 0.8727\n",
      "Epoch 77/100\n",
      "52/52 [==============================] - 1s 14ms/step - loss: 0.4175 - accuracy: 0.8648\n",
      "Epoch 78/100\n",
      "52/52 [==============================] - 1s 13ms/step - loss: 0.2579 - accuracy: 0.9218\n",
      "Epoch 79/100\n",
      "52/52 [==============================] - 1s 13ms/step - loss: 0.2930 - accuracy: 0.9030\n",
      "Epoch 80/100\n",
      "52/52 [==============================] - 1s 13ms/step - loss: 0.2878 - accuracy: 0.8987\n",
      "Epoch 81/100\n",
      "52/52 [==============================] - 1s 13ms/step - loss: 0.3824 - accuracy: 0.8587\n",
      "Epoch 82/100\n"
     ]
    },
    {
     "name": "stdout",
     "output_type": "stream",
     "text": [
      "52/52 [==============================] - 1s 13ms/step - loss: 0.4008 - accuracy: 0.8587\n",
      "Epoch 83/100\n",
      "52/52 [==============================] - 1s 13ms/step - loss: 0.3471 - accuracy: 0.8745\n",
      "Epoch 84/100\n",
      "52/52 [==============================] - 1s 13ms/step - loss: 0.2427 - accuracy: 0.9169\n",
      "Epoch 85/100\n",
      "52/52 [==============================] - 1s 13ms/step - loss: 0.2555 - accuracy: 0.9102\n",
      "Epoch 86/100\n",
      "52/52 [==============================] - 1s 14ms/step - loss: 0.3267 - accuracy: 0.8842\n",
      "Epoch 87/100\n",
      "52/52 [==============================] - 1s 14ms/step - loss: 0.2428 - accuracy: 0.9133\n",
      "Epoch 88/100\n",
      "52/52 [==============================] - 1s 14ms/step - loss: 0.3588 - accuracy: 0.8727\n",
      "Epoch 89/100\n",
      "52/52 [==============================] - 1s 14ms/step - loss: 0.2392 - accuracy: 0.9224\n",
      "Epoch 90/100\n",
      "52/52 [==============================] - 1s 14ms/step - loss: 0.4248 - accuracy: 0.8563\n",
      "Epoch 91/100\n",
      "52/52 [==============================] - 1s 14ms/step - loss: 0.3270 - accuracy: 0.8842\n",
      "Epoch 92/100\n",
      "52/52 [==============================] - 1s 14ms/step - loss: 0.3673 - accuracy: 0.8745\n",
      "Epoch 93/100\n",
      "52/52 [==============================] - 1s 14ms/step - loss: 0.2690 - accuracy: 0.9078\n",
      "Epoch 94/100\n",
      "52/52 [==============================] - 1s 14ms/step - loss: 0.2214 - accuracy: 0.9260\n",
      "Epoch 95/100\n",
      "52/52 [==============================] - 1s 14ms/step - loss: 0.1878 - accuracy: 0.9418\n",
      "Epoch 96/100\n",
      "52/52 [==============================] - 1s 14ms/step - loss: 0.3557 - accuracy: 0.8684\n",
      "Epoch 97/100\n",
      "52/52 [==============================] - 1s 14ms/step - loss: 0.1801 - accuracy: 0.9406\n",
      "Epoch 98/100\n",
      "52/52 [==============================] - 1s 15ms/step - loss: 0.2803 - accuracy: 0.9048\n",
      "Epoch 99/100\n",
      "52/52 [==============================] - 1s 14ms/step - loss: 0.2746 - accuracy: 0.9121\n",
      "Epoch 100/100\n",
      "52/52 [==============================] - 1s 15ms/step - loss: 0.1993 - accuracy: 0.9303\n"
     ]
    },
    {
     "data": {
      "text/plain": [
       "<keras.callbacks.History at 0x1d0595f1a90>"
      ]
     },
     "execution_count": 46,
     "metadata": {},
     "output_type": "execute_result"
    }
   ],
   "source": [
    "nn.fit(x_train,y_train,batch_size=32,epochs=100)"
   ]
  },
  {
   "cell_type": "code",
   "execution_count": 47,
   "id": "51360bf3",
   "metadata": {},
   "outputs": [
    {
     "name": "stdout",
     "output_type": "stream",
     "text": [
      "13/13 [==============================] - 0s 5ms/step - loss: 0.6192 - accuracy: 0.8281\n"
     ]
    },
    {
     "data": {
      "text/plain": [
       "[0.619159996509552, 0.8280871510505676]"
      ]
     },
     "execution_count": 47,
     "metadata": {},
     "output_type": "execute_result"
    }
   ],
   "source": [
    "nn.evaluate(x_test,y_test)"
   ]
  },
  {
   "cell_type": "code",
   "execution_count": null,
   "id": "6b325c0b",
   "metadata": {},
   "outputs": [],
   "source": [
    "#prediction"
   ]
  },
  {
   "cell_type": "code",
   "execution_count": 49,
   "id": "dbcd3b3b",
   "metadata": {},
   "outputs": [
    {
     "name": "stdout",
     "output_type": "stream",
     "text": [
      "1/1 [==============================] - 0s 24ms/step\n"
     ]
    },
    {
     "data": {
      "text/plain": [
       "array([[0.  , 0.  , 0.  , 0.99, 0.  , 0.  , 0.  , 0.  , 0.  , 0.  ],\n",
       "       [0.  , 0.  , 0.  , 0.  , 0.  , 0.02, 0.97, 0.  , 0.  , 0.  ],\n",
       "       [0.  , 0.  , 0.  , 0.  , 0.96, 0.  , 0.  , 0.01, 0.03, 0.  ]],\n",
       "      dtype=float32)"
      ]
     },
     "execution_count": 49,
     "metadata": {},
     "output_type": "execute_result"
    }
   ],
   "source": [
    "nn.predict(x_test[0:3]).round(2)"
   ]
  },
  {
   "cell_type": "code",
   "execution_count": 50,
   "id": "37c5ef31",
   "metadata": {},
   "outputs": [
    {
     "data": {
      "text/plain": [
       "array([[0., 0., 0., 1., 0., 0., 0., 0., 0., 0.],\n",
       "       [0., 0., 0., 0., 0., 0., 1., 0., 0., 0.],\n",
       "       [0., 0., 0., 0., 1., 0., 0., 0., 0., 0.]])"
      ]
     },
     "execution_count": 50,
     "metadata": {},
     "output_type": "execute_result"
    }
   ],
   "source": [
    "y_test[0:3]"
   ]
  },
  {
   "cell_type": "code",
   "execution_count": 51,
   "id": "b1949e62",
   "metadata": {},
   "outputs": [
    {
     "name": "stdout",
     "output_type": "stream",
     "text": [
      "1/1 [==============================] - 0s 17ms/step\n"
     ]
    },
    {
     "data": {
      "text/plain": [
       "array([3, 6, 4], dtype=int64)"
      ]
     },
     "execution_count": 51,
     "metadata": {},
     "output_type": "execute_result"
    }
   ],
   "source": [
    "np.argmax(nn.predict(x_test[0:3]).round(2),axis=1)"
   ]
  },
  {
   "cell_type": "code",
   "execution_count": 52,
   "id": "6814bba5",
   "metadata": {},
   "outputs": [
    {
     "data": {
      "text/plain": [
       "array([3, 6, 4], dtype=int64)"
      ]
     },
     "execution_count": 52,
     "metadata": {},
     "output_type": "execute_result"
    }
   ],
   "source": [
    "np.argmax(y_test[0:3],axis=1)"
   ]
  },
  {
   "cell_type": "code",
   "execution_count": 53,
   "id": "ab1a20bb",
   "metadata": {},
   "outputs": [
    {
     "name": "stdout",
     "output_type": "stream",
     "text": [
      "1/1 [==============================] - 0s 26ms/step\n"
     ]
    },
    {
     "data": {
      "text/plain": [
       "array([3, 6, 4, 2, 8, 6, 2, 9, 3, 9], dtype=int64)"
      ]
     },
     "execution_count": 53,
     "metadata": {},
     "output_type": "execute_result"
    }
   ],
   "source": [
    "np.argmax(nn.predict(x_test[0:10]).round(2),axis=1)"
   ]
  },
  {
   "cell_type": "code",
   "execution_count": 54,
   "id": "852b4714",
   "metadata": {},
   "outputs": [
    {
     "data": {
      "text/plain": [
       "array([3, 6, 4, 2, 8, 6, 2, 9, 3, 9], dtype=int64)"
      ]
     },
     "execution_count": 54,
     "metadata": {},
     "output_type": "execute_result"
    }
   ],
   "source": [
    "np.argmax(y_test[0:10],axis=1)"
   ]
  },
  {
   "cell_type": "code",
   "execution_count": null,
   "id": "a6a57a48",
   "metadata": {},
   "outputs": [],
   "source": []
  }
 ],
 "metadata": {
  "kernelspec": {
   "display_name": "Python 3 (ipykernel)",
   "language": "python",
   "name": "python3"
  },
  "language_info": {
   "codemirror_mode": {
    "name": "ipython",
    "version": 3
   },
   "file_extension": ".py",
   "mimetype": "text/x-python",
   "name": "python",
   "nbconvert_exporter": "python",
   "pygments_lexer": "ipython3",
   "version": "3.9.12"
  }
 },
 "nbformat": 4,
 "nbformat_minor": 5
}
